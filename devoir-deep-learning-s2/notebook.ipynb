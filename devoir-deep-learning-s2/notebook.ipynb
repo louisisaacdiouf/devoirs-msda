{
 "cells": [
  {
   "cell_type": "markdown",
   "metadata": {
    "colab_type": "text",
    "id": "EwL5a2PtF0Tx"
   },
   "source": [
    "**Regression Linéaire**\n",
    "Cette premiére partie est consacrée à la création d'un modéle de regression linéaire pour prédire les effets des changements climatiques.\n",
    "Vous pourrez utiliser tous les documents de cours et bibliothéques nécessaires de python."
   ]
  },
  {
   "cell_type": "markdown",
   "metadata": {
    "colab_type": "text",
    "id": "EZJOI7ryF6gq"
   },
   "source": [
    "De nombreuses études ont démontré que la température mondiale moyenne a augmenté au cours du siècle dernier. Les conséquences d'une augmentation continue de la température mondiale seront désastreuses. L'élévation du niveau de la mer et une fréquence accrue d'événements météorologiques extrêmes toucheront des milliards de personnes.\n",
    "\n",
    "Dans ce problème, nous tenterons d'étudier la relation entre la température moyenne mondiale et plusieurs autres facteurs.\n",
    "\n",
    "Le fichier Climate_change (CSV) contient des données climatiques de mai 1983 à décembre 2008. Les variables disponibles incluent:\n",
    "\n",
    "**Année:** l'année d'observation.\n",
    "\n",
    "**Mois:** le mois d'observation.\n",
    "\n",
    "**Temp:** la différence en degrés Celsius entre la température globale moyenne pendant cette période et une valeur de référence. Ces données proviennent de l'Unité de recherche climatique de l'Université d'East Anglia.\n",
    "\n",
    "**CO2, N2O, CH4, CFC.11, CFC.12:** concentrations atmosphériques de dioxyde de carbone (CO2), d'oxyde nitreux (N2O), de méthane (CH4), de trichlorofluorométhane (CCl3F; communément appelé CFC-11) et de dichlorodifluorométhane (CCl2F2 ; communément appelé CFC-12), respectivement. Ces données proviennent de la Division de surveillance mondiale ESRL / NOAA.\n",
    "Le CO2, N2O et CH4 sont exprimés en ppmv (parties par million en volume - c'est-à-dire 397 ppmv de CO2 signifie que le CO2 constitue 397 millionièmes du volume total de l'atmosphère)\n",
    "Les CFC.11 et CFC.12 sont exprimés en ppbv (parties par milliard en volume).\n",
    "\n",
    "**Aérosols:**\n",
    "la profondeur optique moyenne des aérosols stratosphériques à 550 nm. Cette variable est liée aux volcans, car les éruptions volcaniques entraînent l'ajout de nouvelles particules à l'atmosphère, ce qui affecte la quantité d'énergie solaire réfléchie dans l'espace. Ces données proviennent du Godard Institute for Space Studies de la NASA.\n",
    "\n",
    "**TSI:** l'irradiance solaire totale (TSI) en W / m2 (le taux auquel l'énergie solaire est déposée par unité de surface). En raison des taches solaires et d'autres phénomènes solaires, la quantité d'énergie émise par le soleil varie considérablement avec le temps. Ces données proviennent du site web du projet SOLARIS-HEPPA.\n",
    "\n",
    "**MEI:** indice d'oscillation australe multivarié El Nino (MEI), une mesure de la force de l'oscillation australe El Nino / La Nina (un effet météorologique dans l'océan Pacifique qui affecte les températures mondiales). Ces données proviennent de la Division des Sciences Physiques ESRL / NOAA."
   ]
  },
  {
   "cell_type": "markdown",
   "metadata": {
    "colab_type": "text",
    "id": "WzyMkUBnH3yY"
   },
   "source": [
    "Nous nous intéressons à la manière dont les changements de ces variables affectent les températures futures, ainsi qu'à la façon dont ces variables expliquent les changements de température jusqu'à présent. Pour ce faire, lisez d'abord le jeu de données Climate_change.csv dans python avec pandas.\n",
    "\n",
    "Ensuite, divisez les données en un ensemble d'apprentissage, composé de toutes les observations jusqu'en 2006 inclusivement, et un ensemble de test comprenant les années restantes (indice: utiliser un sous-ensemble). Un ensemble d'apprentissage fait référence aux données qui seront utilisées pour construire le modèle (ce sont les données que nous donnons à la fonction lm ()), et un ensemble de test fait référence aux données que nous utiliserons pour tester notre capacité prédictive."
   ]
  },
  {
   "cell_type": "code",
   "execution_count": 1,
   "metadata": {
    "colab": {},
    "colab_type": "code",
    "id": "btVSLAH6IJ_G"
   },
   "outputs": [
    {
     "data": {
      "text/plain": [
       "\"path = '/content/drive/My Drive/Colab Notebooks/ml-coursera-python-assignments/Devoir1LinearRegLogisticReg'\\nimport sys\\nsys.path.append(path)\""
      ]
     },
     "execution_count": 1,
     "metadata": {},
     "output_type": "execute_result"
    }
   ],
   "source": [
    "'''path = '/content/drive/My Drive/Colab Notebooks/ml-coursera-python-assignments/Devoir1LinearRegLogisticReg'\n",
    "import sys\n",
    "sys.path.append(path)'''"
   ]
  },
  {
   "cell_type": "code",
   "execution_count": 2,
   "metadata": {
    "colab": {},
    "colab_type": "code",
    "id": "I2IPtE9GItHp"
   },
   "outputs": [],
   "source": [
    "import pandas as pd\n",
    "import numpy as np\n",
    "import matplotlib.pyplot as plt\n",
    "import seaborn as sn\n",
    "from sklearn.preprocessing import StandardScaler\n",
    "from sklearn.linear_model import LinearRegression\n",
    "from numpy.linalg import norm\n",
    "from scipy import optimize\n",
    "%matplotlib inline"
   ]
  },
  {
   "cell_type": "markdown",
   "metadata": {
    "colab_type": "text",
    "id": "jfYI5aSyNQPU"
   },
   "source": [
    "**Lecture du jeu de données avec pandas et affichage des 10 premiéres lignes**\n",
    "\n",
    "Nous nous intéressons à la manière dont les changements de ces variables affectent les températures futures, ainsi qu'à la façon dont ces variables expliquent les changements de température jusqu'à présent. Pour ce faire, lisez d'abord le jeu de données Climate_change.csv avec pandas.\n"
   ]
  },
  {
   "cell_type": "code",
   "execution_count": 3,
   "metadata": {
    "colab": {},
    "colab_type": "code",
    "id": "VzuCijx1MHZy"
   },
   "outputs": [],
   "source": [
    "climate_change = pd.read_csv('Data/climate_change.csv')"
   ]
  },
  {
   "cell_type": "code",
   "execution_count": 4,
   "metadata": {
    "colab": {
     "base_uri": "https://localhost:8080/",
     "height": 359
    },
    "colab_type": "code",
    "id": "xiyIOSNQMaQo",
    "outputId": "8e1688c2-92dd-44f1-9406-9aeced14845b"
   },
   "outputs": [
    {
     "data": {
      "text/html": [
       "<div>\n",
       "<style scoped>\n",
       "    .dataframe tbody tr th:only-of-type {\n",
       "        vertical-align: middle;\n",
       "    }\n",
       "\n",
       "    .dataframe tbody tr th {\n",
       "        vertical-align: top;\n",
       "    }\n",
       "\n",
       "    .dataframe thead th {\n",
       "        text-align: right;\n",
       "    }\n",
       "</style>\n",
       "<table border=\"1\" class=\"dataframe\">\n",
       "  <thead>\n",
       "    <tr style=\"text-align: right;\">\n",
       "      <th></th>\n",
       "      <th>Year</th>\n",
       "      <th>Month</th>\n",
       "      <th>MEI</th>\n",
       "      <th>CO2</th>\n",
       "      <th>CH4</th>\n",
       "      <th>N2O</th>\n",
       "      <th>CFC-11</th>\n",
       "      <th>CFC-12</th>\n",
       "      <th>TSI</th>\n",
       "      <th>Aerosols</th>\n",
       "      <th>Temp</th>\n",
       "    </tr>\n",
       "  </thead>\n",
       "  <tbody>\n",
       "    <tr>\n",
       "      <th>0</th>\n",
       "      <td>1983</td>\n",
       "      <td>5</td>\n",
       "      <td>2.556</td>\n",
       "      <td>345.96</td>\n",
       "      <td>1638.59</td>\n",
       "      <td>303.677</td>\n",
       "      <td>191.324</td>\n",
       "      <td>350.113</td>\n",
       "      <td>1366.1024</td>\n",
       "      <td>0.0863</td>\n",
       "      <td>0.109</td>\n",
       "    </tr>\n",
       "    <tr>\n",
       "      <th>1</th>\n",
       "      <td>1983</td>\n",
       "      <td>6</td>\n",
       "      <td>2.167</td>\n",
       "      <td>345.52</td>\n",
       "      <td>1633.71</td>\n",
       "      <td>303.746</td>\n",
       "      <td>192.057</td>\n",
       "      <td>351.848</td>\n",
       "      <td>1366.1208</td>\n",
       "      <td>0.0794</td>\n",
       "      <td>0.118</td>\n",
       "    </tr>\n",
       "    <tr>\n",
       "      <th>2</th>\n",
       "      <td>1983</td>\n",
       "      <td>7</td>\n",
       "      <td>1.741</td>\n",
       "      <td>344.15</td>\n",
       "      <td>1633.22</td>\n",
       "      <td>303.795</td>\n",
       "      <td>192.818</td>\n",
       "      <td>353.725</td>\n",
       "      <td>1366.2850</td>\n",
       "      <td>0.0731</td>\n",
       "      <td>0.137</td>\n",
       "    </tr>\n",
       "    <tr>\n",
       "      <th>3</th>\n",
       "      <td>1983</td>\n",
       "      <td>8</td>\n",
       "      <td>1.130</td>\n",
       "      <td>342.25</td>\n",
       "      <td>1631.35</td>\n",
       "      <td>303.839</td>\n",
       "      <td>193.602</td>\n",
       "      <td>355.633</td>\n",
       "      <td>1366.4202</td>\n",
       "      <td>0.0673</td>\n",
       "      <td>0.176</td>\n",
       "    </tr>\n",
       "    <tr>\n",
       "      <th>4</th>\n",
       "      <td>1983</td>\n",
       "      <td>9</td>\n",
       "      <td>0.428</td>\n",
       "      <td>340.17</td>\n",
       "      <td>1648.40</td>\n",
       "      <td>303.901</td>\n",
       "      <td>194.392</td>\n",
       "      <td>357.465</td>\n",
       "      <td>1366.2335</td>\n",
       "      <td>0.0619</td>\n",
       "      <td>0.149</td>\n",
       "    </tr>\n",
       "    <tr>\n",
       "      <th>5</th>\n",
       "      <td>1983</td>\n",
       "      <td>10</td>\n",
       "      <td>0.002</td>\n",
       "      <td>340.30</td>\n",
       "      <td>1663.79</td>\n",
       "      <td>303.970</td>\n",
       "      <td>195.171</td>\n",
       "      <td>359.174</td>\n",
       "      <td>1366.0589</td>\n",
       "      <td>0.0569</td>\n",
       "      <td>0.093</td>\n",
       "    </tr>\n",
       "    <tr>\n",
       "      <th>6</th>\n",
       "      <td>1983</td>\n",
       "      <td>11</td>\n",
       "      <td>-0.176</td>\n",
       "      <td>341.53</td>\n",
       "      <td>1658.23</td>\n",
       "      <td>304.032</td>\n",
       "      <td>195.921</td>\n",
       "      <td>360.758</td>\n",
       "      <td>1366.1072</td>\n",
       "      <td>0.0524</td>\n",
       "      <td>0.232</td>\n",
       "    </tr>\n",
       "    <tr>\n",
       "      <th>7</th>\n",
       "      <td>1983</td>\n",
       "      <td>12</td>\n",
       "      <td>-0.176</td>\n",
       "      <td>343.07</td>\n",
       "      <td>1654.31</td>\n",
       "      <td>304.082</td>\n",
       "      <td>196.609</td>\n",
       "      <td>362.174</td>\n",
       "      <td>1366.0607</td>\n",
       "      <td>0.0486</td>\n",
       "      <td>0.078</td>\n",
       "    </tr>\n",
       "    <tr>\n",
       "      <th>8</th>\n",
       "      <td>1984</td>\n",
       "      <td>1</td>\n",
       "      <td>-0.339</td>\n",
       "      <td>344.05</td>\n",
       "      <td>1658.98</td>\n",
       "      <td>304.130</td>\n",
       "      <td>197.219</td>\n",
       "      <td>363.359</td>\n",
       "      <td>1365.4261</td>\n",
       "      <td>0.0451</td>\n",
       "      <td>0.089</td>\n",
       "    </tr>\n",
       "    <tr>\n",
       "      <th>9</th>\n",
       "      <td>1984</td>\n",
       "      <td>2</td>\n",
       "      <td>-0.565</td>\n",
       "      <td>344.77</td>\n",
       "      <td>1656.48</td>\n",
       "      <td>304.194</td>\n",
       "      <td>197.759</td>\n",
       "      <td>364.296</td>\n",
       "      <td>1365.6618</td>\n",
       "      <td>0.0416</td>\n",
       "      <td>0.013</td>\n",
       "    </tr>\n",
       "  </tbody>\n",
       "</table>\n",
       "</div>"
      ],
      "text/plain": [
       "   Year  Month    MEI     CO2      CH4      N2O   CFC-11   CFC-12        TSI  \\\n",
       "0  1983      5  2.556  345.96  1638.59  303.677  191.324  350.113  1366.1024   \n",
       "1  1983      6  2.167  345.52  1633.71  303.746  192.057  351.848  1366.1208   \n",
       "2  1983      7  1.741  344.15  1633.22  303.795  192.818  353.725  1366.2850   \n",
       "3  1983      8  1.130  342.25  1631.35  303.839  193.602  355.633  1366.4202   \n",
       "4  1983      9  0.428  340.17  1648.40  303.901  194.392  357.465  1366.2335   \n",
       "5  1983     10  0.002  340.30  1663.79  303.970  195.171  359.174  1366.0589   \n",
       "6  1983     11 -0.176  341.53  1658.23  304.032  195.921  360.758  1366.1072   \n",
       "7  1983     12 -0.176  343.07  1654.31  304.082  196.609  362.174  1366.0607   \n",
       "8  1984      1 -0.339  344.05  1658.98  304.130  197.219  363.359  1365.4261   \n",
       "9  1984      2 -0.565  344.77  1656.48  304.194  197.759  364.296  1365.6618   \n",
       "\n",
       "   Aerosols   Temp  \n",
       "0    0.0863  0.109  \n",
       "1    0.0794  0.118  \n",
       "2    0.0731  0.137  \n",
       "3    0.0673  0.176  \n",
       "4    0.0619  0.149  \n",
       "5    0.0569  0.093  \n",
       "6    0.0524  0.232  \n",
       "7    0.0486  0.078  \n",
       "8    0.0451  0.089  \n",
       "9    0.0416  0.013  "
      ]
     },
     "execution_count": 4,
     "metadata": {},
     "output_type": "execute_result"
    }
   ],
   "source": [
    "climate_change.head(10)"
   ]
  },
  {
   "cell_type": "markdown",
   "metadata": {
    "colab_type": "text",
    "id": "twkFUuBXzphL"
   },
   "source": [
    "**Quelles sont vos remarques par rapport à ces données?**"
   ]
  },
  {
   "cell_type": "markdown",
   "metadata": {},
   "source": [
    "**Remarques** : Nous remarquons que ces données n'ont pas les mêmes ordres de grandeurs. Elles n'ont donc pas les mêmes unités de mesure"
   ]
  },
  {
   "cell_type": "markdown",
   "metadata": {
    "colab_type": "text",
    "id": "zQAcIXu6Mp0S"
   },
   "source": [
    "**Valeurs manquantes:**\n",
    "\n",
    "Rechercher les valeurs manquantes et supprimer les lignes où elles se trouvent s'il y en a. "
   ]
  },
  {
   "cell_type": "code",
   "execution_count": 5,
   "metadata": {
    "colab": {
     "base_uri": "https://localhost:8080/",
     "height": 221
    },
    "colab_type": "code",
    "id": "EbnPv1i7M51B",
    "outputId": "357d99b6-f15f-4296-8270-ff3046687d6a"
   },
   "outputs": [
    {
     "data": {
      "text/plain": [
       "Year        0.0\n",
       "Month       0.0\n",
       "MEI         0.0\n",
       "CO2         0.0\n",
       "CH4         0.0\n",
       "N2O         0.0\n",
       "CFC-11      0.0\n",
       "CFC-12      0.0\n",
       "TSI         0.0\n",
       "Aerosols    0.0\n",
       "Temp        0.0\n",
       "dtype: float64"
      ]
     },
     "execution_count": 5,
     "metadata": {},
     "output_type": "execute_result"
    }
   ],
   "source": [
    "# Valeurs manquantes\n",
    "\n",
    "total_missing = climate_change.isna().sum()\n",
    "\n",
    "percent_missing = total_missing / climate_change.count()\n",
    "\n",
    "percent_missing"
   ]
  },
  {
   "cell_type": "markdown",
   "metadata": {
    "colab_type": "text",
    "id": "cfRQak3e49Bu"
   },
   "source": [
    "**Colonnes Year, Month et y**\n",
    "Enlever les colonnes sur Year et Month et mettre la colonne Temp dans une variable y qui representera les températures"
   ]
  },
  {
   "cell_type": "code",
   "execution_count": 6,
   "metadata": {
    "colab": {},
    "colab_type": "code",
    "id": "gRAQVRuY7i2T"
   },
   "outputs": [],
   "source": [
    "climate_change_ini = climate_change.copy()\n",
    "climate_change = climate_change.drop(['Year','Month'], axis=1)"
   ]
  },
  {
   "cell_type": "code",
   "execution_count": 7,
   "metadata": {
    "colab": {},
    "colab_type": "code",
    "id": "XqxFXCs4-3y9"
   },
   "outputs": [],
   "source": [
    "y = climate_change['Temp']"
   ]
  },
  {
   "cell_type": "code",
   "execution_count": 8,
   "metadata": {},
   "outputs": [],
   "source": [
    "climate_change = climate_change.drop(['Temp'], axis=1)"
   ]
  },
  {
   "cell_type": "markdown",
   "metadata": {
    "colab_type": "text",
    "id": "CjHGII9GUD_j"
   },
   "source": [
    "**Standardisation des données:**\n",
    "\n",
    "Les données ne sont pas à la même échelle. Il est important de les standardiser. Pour cela vous allez utiliser la bibliothéque scikit-learn(https://scikit-learn.org/stable/). \n",
    "\n",
    "StandardScaler permet de tout standardiser et de transformer les colonnes du Dataframe. Il est important de noter que StandardScaler retourne un numpy array"
   ]
  },
  {
   "cell_type": "code",
   "execution_count": 9,
   "metadata": {
    "colab": {},
    "colab_type": "code",
    "id": "YzyKBiCPXhXW"
   },
   "outputs": [],
   "source": [
    "scaler = StandardScaler()\n",
    "\n",
    "climate_change[climate_change.columns] = pd.DataFrame(scaler.fit_transform(climate_change))"
   ]
  },
  {
   "cell_type": "markdown",
   "metadata": {
    "colab_type": "text",
    "id": "75dXPrjFX2vb"
   },
   "source": [
    "**Description du nouveau dataframe**\n",
    "\n",
    "Decrivez le nouveau dataframe avec la fonction describe() de pandans"
   ]
  },
  {
   "cell_type": "code",
   "execution_count": 10,
   "metadata": {
    "colab": {
     "base_uri": "https://localhost:8080/",
     "height": 419
    },
    "colab_type": "code",
    "id": "3mRGtjT8YERX",
    "outputId": "3efc1a2a-3677-4a56-e214-57a4850d0d90"
   },
   "outputs": [
    {
     "data": {
      "text/html": [
       "<div>\n",
       "<style scoped>\n",
       "    .dataframe tbody tr th:only-of-type {\n",
       "        vertical-align: middle;\n",
       "    }\n",
       "\n",
       "    .dataframe tbody tr th {\n",
       "        vertical-align: top;\n",
       "    }\n",
       "\n",
       "    .dataframe thead th {\n",
       "        text-align: right;\n",
       "    }\n",
       "</style>\n",
       "<table border=\"1\" class=\"dataframe\">\n",
       "  <thead>\n",
       "    <tr style=\"text-align: right;\">\n",
       "      <th></th>\n",
       "      <th>MEI</th>\n",
       "      <th>CO2</th>\n",
       "      <th>CH4</th>\n",
       "      <th>N2O</th>\n",
       "      <th>CFC-11</th>\n",
       "      <th>CFC-12</th>\n",
       "      <th>TSI</th>\n",
       "      <th>Aerosols</th>\n",
       "    </tr>\n",
       "  </thead>\n",
       "  <tbody>\n",
       "    <tr>\n",
       "      <th>0</th>\n",
       "      <td>2.435346</td>\n",
       "      <td>-1.367493</td>\n",
       "      <td>-2.419359</td>\n",
       "      <td>-1.670583</td>\n",
       "      <td>-3.002591</td>\n",
       "      <td>-2.553339</td>\n",
       "      <td>0.079308</td>\n",
       "      <td>2.401281</td>\n",
       "    </tr>\n",
       "    <tr>\n",
       "      <th>1</th>\n",
       "      <td>2.019923</td>\n",
       "      <td>-1.402340</td>\n",
       "      <td>-2.525499</td>\n",
       "      <td>-1.657356</td>\n",
       "      <td>-2.966302</td>\n",
       "      <td>-2.523287</td>\n",
       "      <td>0.125428</td>\n",
       "      <td>2.163370</td>\n",
       "    </tr>\n",
       "    <tr>\n",
       "      <th>2</th>\n",
       "      <td>1.564986</td>\n",
       "      <td>-1.510841</td>\n",
       "      <td>-2.536157</td>\n",
       "      <td>-1.647963</td>\n",
       "      <td>-2.928626</td>\n",
       "      <td>-2.490775</td>\n",
       "      <td>0.536998</td>\n",
       "      <td>1.946146</td>\n",
       "    </tr>\n",
       "    <tr>\n",
       "      <th>3</th>\n",
       "      <td>0.912484</td>\n",
       "      <td>-1.661317</td>\n",
       "      <td>-2.576829</td>\n",
       "      <td>-1.639529</td>\n",
       "      <td>-2.889812</td>\n",
       "      <td>-2.457726</td>\n",
       "      <td>0.875879</td>\n",
       "      <td>1.746163</td>\n",
       "    </tr>\n",
       "    <tr>\n",
       "      <th>4</th>\n",
       "      <td>0.162800</td>\n",
       "      <td>-1.826049</td>\n",
       "      <td>-2.205991</td>\n",
       "      <td>-1.627644</td>\n",
       "      <td>-2.850701</td>\n",
       "      <td>-2.425994</td>\n",
       "      <td>0.407913</td>\n",
       "      <td>1.559971</td>\n",
       "    </tr>\n",
       "    <tr>\n",
       "      <th>...</th>\n",
       "      <td>...</td>\n",
       "      <td>...</td>\n",
       "      <td>...</td>\n",
       "      <td>...</td>\n",
       "      <td>...</td>\n",
       "      <td>...</td>\n",
       "      <td>...</td>\n",
       "      <td>...</td>\n",
       "    </tr>\n",
       "    <tr>\n",
       "      <th>303</th>\n",
       "      <td>-0.578341</td>\n",
       "      <td>1.657080</td>\n",
       "      <td>0.653709</td>\n",
       "      <td>1.727772</td>\n",
       "      <td>-0.384826</td>\n",
       "      <td>0.650360</td>\n",
       "      <td>-1.037093</td>\n",
       "      <td>-0.450209</td>\n",
       "    </tr>\n",
       "    <tr>\n",
       "      <th>304</th>\n",
       "      <td>-0.980949</td>\n",
       "      <td>1.573130</td>\n",
       "      <td>0.984310</td>\n",
       "      <td>1.751542</td>\n",
       "      <td>-0.390618</td>\n",
       "      <td>0.649945</td>\n",
       "      <td>-1.017793</td>\n",
       "      <td>-0.426074</td>\n",
       "    </tr>\n",
       "    <tr>\n",
       "      <th>305</th>\n",
       "      <td>-1.127255</td>\n",
       "      <td>1.565210</td>\n",
       "      <td>1.399737</td>\n",
       "      <td>1.802724</td>\n",
       "      <td>-0.390767</td>\n",
       "      <td>0.647849</td>\n",
       "      <td>-0.989720</td>\n",
       "      <td>-0.415730</td>\n",
       "    </tr>\n",
       "    <tr>\n",
       "      <th>306</th>\n",
       "      <td>-0.957454</td>\n",
       "      <td>1.655496</td>\n",
       "      <td>1.360369</td>\n",
       "      <td>1.844322</td>\n",
       "      <td>-0.383588</td>\n",
       "      <td>0.647485</td>\n",
       "      <td>-0.913021</td>\n",
       "      <td>-0.408834</td>\n",
       "    </tr>\n",
       "    <tr>\n",
       "      <th>307</th>\n",
       "      <td>-1.005511</td>\n",
       "      <td>1.768749</td>\n",
       "      <td>1.371461</td>\n",
       "      <td>1.876718</td>\n",
       "      <td>-0.384628</td>\n",
       "      <td>0.649200</td>\n",
       "      <td>-0.947861</td>\n",
       "      <td>-0.415730</td>\n",
       "    </tr>\n",
       "  </tbody>\n",
       "</table>\n",
       "<p>308 rows × 8 columns</p>\n",
       "</div>"
      ],
      "text/plain": [
       "          MEI       CO2       CH4       N2O    CFC-11    CFC-12       TSI  \\\n",
       "0    2.435346 -1.367493 -2.419359 -1.670583 -3.002591 -2.553339  0.079308   \n",
       "1    2.019923 -1.402340 -2.525499 -1.657356 -2.966302 -2.523287  0.125428   \n",
       "2    1.564986 -1.510841 -2.536157 -1.647963 -2.928626 -2.490775  0.536998   \n",
       "3    0.912484 -1.661317 -2.576829 -1.639529 -2.889812 -2.457726  0.875879   \n",
       "4    0.162800 -1.826049 -2.205991 -1.627644 -2.850701 -2.425994  0.407913   \n",
       "..        ...       ...       ...       ...       ...       ...       ...   \n",
       "303 -0.578341  1.657080  0.653709  1.727772 -0.384826  0.650360 -1.037093   \n",
       "304 -0.980949  1.573130  0.984310  1.751542 -0.390618  0.649945 -1.017793   \n",
       "305 -1.127255  1.565210  1.399737  1.802724 -0.390767  0.647849 -0.989720   \n",
       "306 -0.957454  1.655496  1.360369  1.844322 -0.383588  0.647485 -0.913021   \n",
       "307 -1.005511  1.768749  1.371461  1.876718 -0.384628  0.649200 -0.947861   \n",
       "\n",
       "     Aerosols  \n",
       "0    2.401281  \n",
       "1    2.163370  \n",
       "2    1.946146  \n",
       "3    1.746163  \n",
       "4    1.559971  \n",
       "..        ...  \n",
       "303 -0.450209  \n",
       "304 -0.426074  \n",
       "305 -0.415730  \n",
       "306 -0.408834  \n",
       "307 -0.415730  \n",
       "\n",
       "[308 rows x 8 columns]"
      ]
     },
     "execution_count": 10,
     "metadata": {},
     "output_type": "execute_result"
    }
   ],
   "source": [
    "climate_change"
   ]
  },
  {
   "cell_type": "markdown",
   "metadata": {
    "colab_type": "text",
    "id": "Izo5Df4YOkOZ"
   },
   "source": [
    "**Creation des ensembles d'apprentissage, de validation et de test**\n",
    "\n",
    "Vous utiliserez la bibliothéque scikit-learn pour determiner les ensembles d'apprentissage( 80%),  et de test(20%). La fonction train_test_split() (https://scikit-learn.org/stable/modules/generated/sklearn.model_selection.train_test_split.html ) de sklean.model_selection permet de creer proprement les ensembles"
   ]
  },
  {
   "cell_type": "code",
   "execution_count": 11,
   "metadata": {
    "colab": {},
    "colab_type": "code",
    "id": "NVpSG-SyPXoZ"
   },
   "outputs": [],
   "source": [
    "from sklearn.model_selection import train_test_split\n",
    "\n",
    "X_train,X_test,y_train,y_test = train_test_split(climate_change, y, test_size=0.2, random_state=20)"
   ]
  },
  {
   "cell_type": "code",
   "execution_count": 12,
   "metadata": {},
   "outputs": [
    {
     "data": {
      "text/html": [
       "<div>\n",
       "<style scoped>\n",
       "    .dataframe tbody tr th:only-of-type {\n",
       "        vertical-align: middle;\n",
       "    }\n",
       "\n",
       "    .dataframe tbody tr th {\n",
       "        vertical-align: top;\n",
       "    }\n",
       "\n",
       "    .dataframe thead th {\n",
       "        text-align: right;\n",
       "    }\n",
       "</style>\n",
       "<table border=\"1\" class=\"dataframe\">\n",
       "  <thead>\n",
       "    <tr style=\"text-align: right;\">\n",
       "      <th></th>\n",
       "      <th>MEI</th>\n",
       "      <th>CO2</th>\n",
       "      <th>CH4</th>\n",
       "      <th>N2O</th>\n",
       "      <th>CFC-11</th>\n",
       "      <th>CFC-12</th>\n",
       "      <th>TSI</th>\n",
       "      <th>Aerosols</th>\n",
       "    </tr>\n",
       "  </thead>\n",
       "  <tbody>\n",
       "    <tr>\n",
       "      <th>214</th>\n",
       "      <td>-0.942503</td>\n",
       "      <td>0.736799</td>\n",
       "      <td>1.124163</td>\n",
       "      <td>0.722911</td>\n",
       "      <td>0.477201</td>\n",
       "      <td>0.775956</td>\n",
       "      <td>0.855576</td>\n",
       "      <td>-0.501929</td>\n",
       "    </tr>\n",
       "    <tr>\n",
       "      <th>132</th>\n",
       "      <td>0.262117</td>\n",
       "      <td>-0.122500</td>\n",
       "      <td>0.113437</td>\n",
       "      <td>-0.428405</td>\n",
       "      <td>0.926680</td>\n",
       "      <td>0.311749</td>\n",
       "      <td>-0.770400</td>\n",
       "      <td>0.132501</td>\n",
       "    </tr>\n",
       "    <tr>\n",
       "      <th>89</th>\n",
       "      <td>-0.036902</td>\n",
       "      <td>-0.921608</td>\n",
       "      <td>-0.281109</td>\n",
       "      <td>-0.673390</td>\n",
       "      <td>0.576414</td>\n",
       "      <td>-0.193837</td>\n",
       "      <td>1.363396</td>\n",
       "      <td>-0.374354</td>\n",
       "    </tr>\n",
       "    <tr>\n",
       "      <th>195</th>\n",
       "      <td>-1.134730</td>\n",
       "      <td>0.287746</td>\n",
       "      <td>0.416851</td>\n",
       "      <td>0.415433</td>\n",
       "      <td>0.604435</td>\n",
       "      <td>0.723785</td>\n",
       "      <td>1.008724</td>\n",
       "      <td>-0.501929</td>\n",
       "    </tr>\n",
       "    <tr>\n",
       "      <th>24</th>\n",
       "      <td>-1.074926</td>\n",
       "      <td>-1.133067</td>\n",
       "      <td>-1.805137</td>\n",
       "      <td>-1.408346</td>\n",
       "      <td>-1.987734</td>\n",
       "      <td>-2.043647</td>\n",
       "      <td>-1.088226</td>\n",
       "      <td>-0.132994</td>\n",
       "    </tr>\n",
       "    <tr>\n",
       "      <th>...</th>\n",
       "      <td>...</td>\n",
       "      <td>...</td>\n",
       "      <td>...</td>\n",
       "      <td>...</td>\n",
       "      <td>...</td>\n",
       "      <td>...</td>\n",
       "      <td>...</td>\n",
       "      <td>...</td>\n",
       "    </tr>\n",
       "    <tr>\n",
       "      <th>71</th>\n",
       "      <td>-1.193466</td>\n",
       "      <td>-0.604816</td>\n",
       "      <td>-0.559945</td>\n",
       "      <td>-0.906682</td>\n",
       "      <td>0.081684</td>\n",
       "      <td>-0.598701</td>\n",
       "      <td>1.301986</td>\n",
       "      <td>-0.367458</td>\n",
       "    </tr>\n",
       "    <tr>\n",
       "      <th>278</th>\n",
       "      <td>0.376385</td>\n",
       "      <td>1.516899</td>\n",
       "      <td>0.350731</td>\n",
       "      <td>1.433904</td>\n",
       "      <td>-0.134961</td>\n",
       "      <td>0.730956</td>\n",
       "      <td>-0.625524</td>\n",
       "      <td>-0.443313</td>\n",
       "    </tr>\n",
       "    <tr>\n",
       "      <th>218</th>\n",
       "      <td>-0.024087</td>\n",
       "      <td>0.660769</td>\n",
       "      <td>0.434468</td>\n",
       "      <td>0.722144</td>\n",
       "      <td>0.427693</td>\n",
       "      <td>0.771955</td>\n",
       "      <td>1.628084</td>\n",
       "      <td>-0.501929</td>\n",
       "    </tr>\n",
       "    <tr>\n",
       "      <th>223</th>\n",
       "      <td>-0.291069</td>\n",
       "      <td>0.629881</td>\n",
       "      <td>1.016935</td>\n",
       "      <td>0.860930</td>\n",
       "      <td>0.418782</td>\n",
       "      <td>0.794940</td>\n",
       "      <td>2.055946</td>\n",
       "      <td>-0.498481</td>\n",
       "    </tr>\n",
       "    <tr>\n",
       "      <th>271</th>\n",
       "      <td>-0.919009</td>\n",
       "      <td>1.322072</td>\n",
       "      <td>1.067178</td>\n",
       "      <td>1.398633</td>\n",
       "      <td>-0.048719</td>\n",
       "      <td>0.766880</td>\n",
       "      <td>-0.541054</td>\n",
       "      <td>-0.450209</td>\n",
       "    </tr>\n",
       "  </tbody>\n",
       "</table>\n",
       "<p>246 rows × 8 columns</p>\n",
       "</div>"
      ],
      "text/plain": [
       "          MEI       CO2       CH4       N2O    CFC-11    CFC-12       TSI  \\\n",
       "214 -0.942503  0.736799  1.124163  0.722911  0.477201  0.775956  0.855576   \n",
       "132  0.262117 -0.122500  0.113437 -0.428405  0.926680  0.311749 -0.770400   \n",
       "89  -0.036902 -0.921608 -0.281109 -0.673390  0.576414 -0.193837  1.363396   \n",
       "195 -1.134730  0.287746  0.416851  0.415433  0.604435  0.723785  1.008724   \n",
       "24  -1.074926 -1.133067 -1.805137 -1.408346 -1.987734 -2.043647 -1.088226   \n",
       "..        ...       ...       ...       ...       ...       ...       ...   \n",
       "71  -1.193466 -0.604816 -0.559945 -0.906682  0.081684 -0.598701  1.301986   \n",
       "278  0.376385  1.516899  0.350731  1.433904 -0.134961  0.730956 -0.625524   \n",
       "218 -0.024087  0.660769  0.434468  0.722144  0.427693  0.771955  1.628084   \n",
       "223 -0.291069  0.629881  1.016935  0.860930  0.418782  0.794940  2.055946   \n",
       "271 -0.919009  1.322072  1.067178  1.398633 -0.048719  0.766880 -0.541054   \n",
       "\n",
       "     Aerosols  \n",
       "214 -0.501929  \n",
       "132  0.132501  \n",
       "89  -0.374354  \n",
       "195 -0.501929  \n",
       "24  -0.132994  \n",
       "..        ...  \n",
       "71  -0.367458  \n",
       "278 -0.443313  \n",
       "218 -0.501929  \n",
       "223 -0.498481  \n",
       "271 -0.450209  \n",
       "\n",
       "[246 rows x 8 columns]"
      ]
     },
     "execution_count": 12,
     "metadata": {},
     "output_type": "execute_result"
    }
   ],
   "source": [
    "X_train"
   ]
  },
  {
   "cell_type": "markdown",
   "metadata": {
    "colab_type": "text",
    "id": "kmXykzzi52PV"
   },
   "source": [
    "**Creation du modele de regression linéaire**\n",
    "\n",
    "Vous allez implementer les algorithmes du gradient descent et du calcul de la fonction cout regularisée avec la norme L2. Vous ecrirez deux versions de cette fonction: batch gradient descent et stochastic gradient descent. La fonction de calcul du cost function regularisée est deja implémentée pour vous.  Vous pouvez vous reférer au cours"
   ]
  },
  {
   "cell_type": "code",
   "execution_count": 13,
   "metadata": {
    "colab": {},
    "colab_type": "code",
    "id": "yMuSj2N16M84"
   },
   "outputs": [],
   "source": [
    "# Fonction coût\n",
    "def linearRegCostFunction(X, y, theta, lambda_=0.0):\n",
    "    \"\"\"\n",
    "    Compute cost and gradient for regularized linear regression \n",
    "    with multiple variables. Computes the cost of using theta as\n",
    "    the parameter for linear regression to fit the data points in X and y. \n",
    "    \n",
    "    Parameters\n",
    "    ----------\n",
    "    X : array_like\n",
    "        The dataset. Matrix with shape (m x n + 1) where m is the \n",
    "        total number of examples, and n is the number of features \n",
    "        before adding the bias term.\n",
    "    \n",
    "    y : array_like\n",
    "        The functions values at each datapoint. A vector of\n",
    "        shape (m, ).\n",
    "    \n",
    "    theta : array_like\n",
    "        The parameters for linear regression. A vector of shape (n+1,).\n",
    "    \n",
    "    lambda_ : float, optional\n",
    "        The regularization parameter.\n",
    "    \n",
    "    Returns\n",
    "    -------\n",
    "    J : float\n",
    "        The computed cost function. \n",
    "    \n",
    "    grad : array_like\n",
    "        The value of the cost function gradient w.r.t theta. \n",
    "        A vector of shape (n+1, ).\n",
    "    \n",
    "    Instructions\n",
    "    ------------\n",
    "    Compute the cost and gradient of regularized linear regression for\n",
    "    a particular choice of theta.\n",
    "    You should set J to the cost and grad to the gradient.\n",
    "    \"\"\"\n",
    "    # Initialize some useful values\n",
    "    m = y.size # number of training examples\n",
    "\n",
    "    # You need to return the following variables correctly \n",
    "    J = 0\n",
    "    grad = np.zeros(theta.shape)\n",
    "    \n",
    "    I = np.ones(theta.shape)\n",
    "    I[:1]= 0.0\n",
    "    # ====================== YOUR CODE HERE ======================\n",
    "    \n",
    "    #  Utliser le broadcasting entre theta et X, sommer ce vecteur suivant l'axe des colonnes et enlever y\n",
    "    # TODO\n",
    "    modele = np.array(np.sum(X*theta, axis=1)).T\n",
    "    J = ( 1. / (2*m) ) * (((modele - y)**2).sum() + (lambda_ / 2)*(norm(theta,2)**2))\n",
    "    grad = (1. / m) * X.T.dot(modele - y) + (lambda_ / m)*theta\n",
    "    \n",
    "    # ============================================================\n",
    "    return J, grad"
   ]
  },
  {
   "cell_type": "code",
   "execution_count": 14,
   "metadata": {},
   "outputs": [
    {
     "data": {
      "text/plain": [
       "(49.63, array([9.9, 9.9, 9.9, 9.9]))"
      ]
     },
     "execution_count": 14,
     "metadata": {},
     "output_type": "execute_result"
    }
   ],
   "source": [
    "# Vérification\n",
    "linearRegCostFunction(np.ones((4,4)), np.array([1,2,3,4]), np.array([0.5,1.9,2, 8]), lambda_=0.0)"
   ]
  },
  {
   "cell_type": "markdown",
   "metadata": {
    "colab_type": "text",
    "id": "SCgL-hcs_B6-"
   },
   "source": [
    "Une fois que votre fonction de coût et votre gradient fonctionnent correctement, la cellule suivante exécutera le code dans trainLinearReg  pour calculer les valeurs optimales de 𝜃. Cette fonction de formation utilise le module d'optimisation de scipy pour minimiser la fonction de coût.\n",
    "\n"
   ]
  },
  {
   "cell_type": "code",
   "execution_count": 15,
   "metadata": {
    "colab": {},
    "colab_type": "code",
    "id": "RHcgxk1d7P3c"
   },
   "outputs": [],
   "source": [
    "# Gradient Descent\n",
    "def trainLinearReg(linearRegCostFunction, X, y, lambda_=0.0, maxiter=200):\n",
    "    \"\"\"\n",
    "    Trains linear regression using scipy's optimize.minimize.\n",
    "\n",
    "    Parameters\n",
    "    ----------\n",
    "    X : array_like\n",
    "        The dataset with shape (m x n+1). The bias term is assumed to be concatenated.\n",
    "\n",
    "    y : array_like\n",
    "        Function values at each datapoint. A vector of shape (m,).\n",
    "\n",
    "    lambda_ : float, optional\n",
    "        The regularization parameter.\n",
    "\n",
    "    maxiter : int, optional\n",
    "        Maximum number of iteration for the optimization algorithm.\n",
    "\n",
    "    Returns\n",
    "    -------\n",
    "    theta : array_like\n",
    "        The parameters for linear regression. This is a vector of shape (n+1,).\n",
    "    \"\"\"\n",
    "    # Initialize Theta\n",
    "    initial_theta = np.zeros(X.shape[1])\n",
    "\n",
    "    # Create \"short hand\" for the cost function to be minimized\n",
    "    costFunction = lambda t: linearRegCostFunction(X, y, t, lambda_)\n",
    "\n",
    "    # Now, costFunction is a function that takes in only one argument\n",
    "    options = {'maxiter': maxiter}\n",
    "\n",
    "    # Minimize using scipy\n",
    "    res = optimize.minimize(costFunction, initial_theta, jac=True, method='TNC', options=options)\n",
    "    return res.x\n"
   ]
  },
  {
   "cell_type": "markdown",
   "metadata": {
    "colab_type": "text",
    "id": "hfQdIwO6-r84"
   },
   "source": [
    "**Execution de la fonction de gradient descent**"
   ]
  },
  {
   "cell_type": "code",
   "execution_count": 16,
   "metadata": {},
   "outputs": [
    {
     "data": {
      "text/plain": [
       "62"
      ]
     },
     "execution_count": 16,
     "metadata": {},
     "output_type": "execute_result"
    }
   ],
   "source": [
    "len(X_test)"
   ]
  },
  {
   "cell_type": "code",
   "execution_count": 17,
   "metadata": {
    "colab": {},
    "colab_type": "code",
    "id": "1NC8kl7A-xpV"
   },
   "outputs": [],
   "source": [
    "# On recupére les données dans un tableau numpy\n",
    "# On ajoute une collone de 1 pour le bias\n",
    "\n",
    "X_train_aug = np.concatenate([np.ones((X_train.shape[0], 1)), X_train], axis=1)\n",
    "theta = trainLinearReg(linearRegCostFunction, X_train_aug, y_train, lambda_=0)\n",
    "\n"
   ]
  },
  {
   "cell_type": "markdown",
   "metadata": {
    "colab_type": "text",
    "id": "38VDmPQ8BqDL"
   },
   "source": [
    "**Visualiser les valeur de theta**"
   ]
  },
  {
   "cell_type": "code",
   "execution_count": 18,
   "metadata": {
    "colab": {
     "base_uri": "https://localhost:8080/",
     "height": 51
    },
    "colab_type": "code",
    "id": "Q2Je13_cB_Lo",
    "outputId": "3037cba2-76ba-4cc7-d21e-56300efc4c61"
   },
   "outputs": [
    {
     "name": "stdout",
     "output_type": "stream",
     "text": [
      "[ 0.25338899  0.06529388  0.07400292  0.02332865 -0.09236735 -0.13881049\n",
      "  0.21841578  0.03991129 -0.03981616]\n"
     ]
    }
   ],
   "source": [
    "print(theta)"
   ]
  },
  {
   "cell_type": "markdown",
   "metadata": {
    "colab_type": "text",
    "id": "3GpPkm1IREJY"
   },
   "source": [
    "**Validation du modéle: courbe d'apprentissage**\n",
    "\n",
    "Vous allez maintenant implémenter du code pour générer les courbes d'apprentissage qui seront utiles dans le débogage des algorithmes d'apprentissage. Rappelez-vous qu'une courbe d'apprentissage trace les erreurs d'entraînement et de validation croisée en fonction de la taille de l'ensemble d'apprentissage. Votre travail consiste à remplir la fonction learningCurve dans la cellule suivante, de sorte qu'elle renvoie un vecteur d'erreurs pour l'ensemble d'apprentissage et l'ensemble de validation croisée.\n",
    "\n",
    "Pour tracer la courbe d'apprentissage, nous avons besoin d'une erreur d'ensemble d'entraînement et de validation croisée pour différentes tailles d'ensemble d'entraînement. Pour obtenir différentes tailles d'ensemble d'apprentissage, vous devez utiliser différents sous-ensembles de l'ensemble d'entraînement d'origine X. Plus précisément, pour une taille d'ensemble d'apprentissage de 𝑖, vous devez utiliser les premiers exemples 𝑖 (c'est-à-dire, X [: i,:] et y [: je]).\n",
    "\n",
    "Vous pouvez utiliser la fonction trainLinearReg (en appelant utils.trainLinearReg (...)) pour trouver les paramètres 𝜃. Notez que lambda_ est passé en paramètre à la fonction learningCurve. Après avoir appris les paramètres 𝜃, vous devez calculer l'erreur sur les ensembles d'apprentissage et de validation croisée. Rappelez-vous que l'erreur d'apprentissage pour un ensemble de données est définie comme:\n",
    "\n",
    "$$ J_{\\text{train}} = \\frac{1}{2m} \\left[ \\sum_{i=1}^m \\left(h_\\theta \\left( x^{(i)} \\right) - y^{(i)} \\right)^2 \\right] $$\n",
    "\n",
    "En particulier, notez que l'erreur d'entrainement n'inclut pas le terme de régularisation. Une façon de calculer l'erreur d'entraînement consiste à utiliser votre fonction de coût existante et à définir $ \\ lambda $ sur 0 uniquement lorsque vous l'utilisez pour calculer l'erreur d'entraînement et l'erreur de validation croisée. Lorsque vous calculez l'erreur d'ensemble d'apprentissage, assurez-vous de la calculer sur le sous-ensemble d'apprentissage (c'est-à-dire, `X [: n,:]` et `y [: n]`) au lieu de l'ensemble d'apprentissage entier. Cependant, pour l'erreur de validation croisée, vous devez la calculer sur  l'ensemble de validation croisée qui est votre ensemble de test dans le cadre de cet exercice. Vous devriez stocker\n",
    "les erreurs calculées dans deux vecteurs: un pour  le train et un autre pour la validation.\n"
   ]
  },
  {
   "cell_type": "code",
   "execution_count": 19,
   "metadata": {
    "colab": {},
    "colab_type": "code",
    "id": "grwluDoeDowF"
   },
   "outputs": [],
   "source": [
    "def learningCurve(X, y, Xval, yval, lambda_=0):\n",
    "    \"\"\"\n",
    "    Generates the train and cross validation set errors needed to plot a learning curve\n",
    "    returns the train and cross validation set errors for a learning curve. \n",
    "    \n",
    "    In this function, you will compute the train and test errors for\n",
    "    dataset sizes from 1 up to m. In practice, when working with larger\n",
    "    datasets, you might want to do this in larger intervals.\n",
    "    \n",
    "    Parameters\n",
    "    ----------\n",
    "    X : array_like\n",
    "        The training dataset. Matrix with shape (m x n + 1) where m is the \n",
    "        total number of examples, and n is the number of features \n",
    "        before adding the bias term.\n",
    "    \n",
    "    y : array_like\n",
    "        The functions values at each training datapoint. A vector of\n",
    "        shape (m, ).\n",
    "    \n",
    "    Xval : array_like\n",
    "        The validation dataset. Matrix with shape (m_val x n + 1) where m is the \n",
    "        total number of examples, and n is the number of features \n",
    "        before adding the bias term.\n",
    "    \n",
    "    yval : array_like\n",
    "        The functions values at each validation datapoint. A vector of\n",
    "        shape (m_val, ).\n",
    "    \n",
    "    lambda_ : float, optional\n",
    "        The regularization parameter.\n",
    "    \n",
    "    Returns\n",
    "    -------\n",
    "    error_train : array_like\n",
    "        A vector of shape m. error_train[i] contains the training error for\n",
    "        i examples.\n",
    "    error_val : array_like\n",
    "        A vecotr of shape m. error_val[i] contains the validation error for\n",
    "        i training examples.\n",
    "    \n",
    "    Instructions\n",
    "    ------------\n",
    "    Fill in this function to return training errors in error_train and the\n",
    "    cross validation errors in error_val. i.e., error_train[i] and \n",
    "    error_val[i] should give you the errors obtained after training on i examples.\n",
    "    \n",
    "    Notes\n",
    "    -----\n",
    "    - You should evaluate the training error on the first i training\n",
    "      examples (i.e., X[:i, :] and y[:i]).\n",
    "    \n",
    "      For the cross-validation error, you should instead evaluate on\n",
    "      the _entire_ cross validation set (Xval and yval).\n",
    "    \n",
    "    - If you are using your cost function (linearRegCostFunction) to compute\n",
    "      the training and cross validation error, you should call the function with\n",
    "      the lambda argument set to 0. Do note that you will still need to use\n",
    "      lambda when running the training to obtain the theta parameters.\n",
    "    \n",
    "    Hint\n",
    "    ----\n",
    "    You can loop over the examples with the following:\n",
    "     \n",
    "           for i in range(1, m+1):\n",
    "               # Compute train/cross validation errors using training examples \n",
    "               # X[:i, :] and y[:i], storing the result in \n",
    "               # error_train[i-1] and error_val[i-1]\n",
    "               ....  \n",
    "    \"\"\"\n",
    "    # Number of training examples\n",
    "    m = y.size\n",
    "\n",
    "    # You need to return these values correctly\n",
    "    error_train = np.zeros(m)\n",
    "    error_val   = np.zeros(m)\n",
    "\n",
    "    # ====================== YOUR CODE HERE ======================\n",
    "    for i in range(1, m+1):\n",
    "      # Compute train/cross validation errors using training examples \n",
    "      # X[:i, :] and y[:i], storing the result in\n",
    "      theta = trainLinearReg(linearRegCostFunction, X[:i, :], y[:i], lambda_=0)\n",
    "\n",
    "      error_train[i-1] , _ = linearRegCostFunction(X[:i, :], y[:i], theta, 0.0)\n",
    "\n",
    "      error_val[i-1] , _ = linearRegCostFunction(Xval[:i, :], yval[:i], theta, 0.0)\n",
    "\n",
    "      \n",
    "        \n",
    "    # =============================================================\n",
    "    return error_train, error_val"
   ]
  },
  {
   "cell_type": "code",
   "execution_count": 20,
   "metadata": {
    "colab": {},
    "colab_type": "code",
    "id": "6SnLVuD2TRl7"
   },
   "outputs": [],
   "source": [
    "X_test_aug = np.concatenate([np.ones((X_test.shape[0], 1)), X_test], axis=1)\n",
    "error_train,error_test = learningCurve(X_train_aug, y_train, X_test_aug, y_test, lambda_=0)"
   ]
  },
  {
   "cell_type": "markdown",
   "metadata": {
    "colab_type": "text",
    "id": "p7HBsez-UBPy"
   },
   "source": [
    "**Visualiser la courbe d'apprentissage**\n",
    "\n",
    "Utiliser seaborn ou matplotlib pour visualiser le learning curve"
   ]
  },
  {
   "cell_type": "code",
   "execution_count": 21,
   "metadata": {
    "colab": {
     "base_uri": "https://localhost:8080/",
     "height": 1000
    },
    "colab_type": "code",
    "id": "85KNDvuYUMgS",
    "outputId": "14845d02-0d1d-4830-ef3d-f47e13d56693"
   },
   "outputs": [
    {
     "name": "stdout",
     "output_type": "stream",
     "text": [
      "# Training Examples\tTrain Error\tCross Validation Error\n",
      "  \t1\t\t0.000000\t0.003773\n",
      "  \t2\t\t0.000000\t0.007200\n",
      "  \t3\t\t0.000000\t0.000936\n",
      "  \t4\t\t0.000000\t0.006464\n",
      "  \t5\t\t0.000000\t0.012105\n",
      "  \t6\t\t0.000000\t0.003728\n",
      "  \t7\t\t0.000000\t0.005760\n",
      "  \t8\t\t0.000000\t0.227223\n",
      "  \t9\t\t0.000000\t0.191077\n",
      "  \t10\t\t0.000025\t0.173036\n",
      "  \t11\t\t0.000600\t0.004108\n",
      "  \t12\t\t0.000550\t0.003737\n",
      "  \t13\t\t0.000578\t0.011449\n",
      "  \t14\t\t0.000553\t0.008799\n",
      "  \t15\t\t0.000517\t0.008243\n",
      "  \t16\t\t0.000633\t0.006768\n",
      "  \t17\t\t0.000812\t0.002518\n",
      "  \t18\t\t0.000791\t0.002784\n",
      "  \t19\t\t0.000759\t0.002614\n",
      "  \t20\t\t0.000742\t0.002729\n",
      "  \t21\t\t0.000707\t0.002663\n",
      "  \t22\t\t0.000677\t0.005498\n",
      "  \t23\t\t0.000702\t0.004950\n",
      "  \t24\t\t0.000751\t0.008109\n",
      "  \t25\t\t0.000873\t0.007970\n",
      "  \t26\t\t0.000841\t0.007928\n",
      "  \t27\t\t0.001211\t0.008360\n",
      "  \t28\t\t0.001299\t0.007526\n",
      "  \t29\t\t0.001257\t0.009240\n",
      "  \t30\t\t0.001215\t0.008954\n",
      "  \t31\t\t0.001178\t0.008588\n",
      "  \t32\t\t0.001316\t0.009813\n",
      "  \t33\t\t0.001353\t0.009279\n",
      "  \t34\t\t0.001391\t0.008700\n",
      "  \t35\t\t0.002256\t0.008501\n",
      "  \t36\t\t0.002254\t0.010525\n",
      "  \t37\t\t0.002452\t0.010193\n",
      "  \t38\t\t0.002416\t0.010127\n",
      "  \t39\t\t0.002356\t0.010275\n",
      "  \t40\t\t0.002438\t0.009880\n",
      "  \t41\t\t0.002418\t0.009626\n",
      "  \t42\t\t0.002447\t0.008789\n",
      "  \t43\t\t0.002390\t0.008582\n",
      "  \t44\t\t0.002534\t0.008720\n",
      "  \t45\t\t0.002477\t0.008613\n",
      "  \t46\t\t0.002463\t0.008578\n",
      "  \t47\t\t0.002430\t0.008378\n",
      "  \t48\t\t0.002411\t0.008373\n",
      "  \t49\t\t0.002497\t0.008479\n",
      "  \t50\t\t0.002536\t0.008534\n",
      "  \t51\t\t0.002896\t0.009912\n",
      "  \t52\t\t0.002868\t0.009875\n",
      "  \t53\t\t0.002893\t0.009200\n",
      "  \t54\t\t0.003082\t0.008899\n",
      "  \t55\t\t0.003032\t0.008651\n",
      "  \t56\t\t0.003075\t0.007705\n",
      "  \t57\t\t0.003409\t0.006903\n",
      "  \t58\t\t0.003403\t0.006776\n",
      "  \t59\t\t0.003406\t0.006632\n",
      "  \t60\t\t0.003397\t0.006491\n",
      "  \t61\t\t0.003435\t0.006468\n",
      "  \t62\t\t0.003419\t0.006381\n",
      "  \t63\t\t0.003380\t0.006405\n",
      "  \t64\t\t0.003386\t0.006324\n",
      "  \t65\t\t0.003451\t0.006274\n",
      "  \t66\t\t0.003402\t0.006277\n",
      "  \t67\t\t0.003430\t0.006240\n",
      "  \t68\t\t0.003381\t0.006234\n",
      "  \t69\t\t0.003360\t0.006221\n",
      "  \t70\t\t0.003314\t0.006213\n",
      "  \t71\t\t0.003270\t0.006224\n",
      "  \t72\t\t0.003399\t0.006160\n",
      "  \t73\t\t0.003397\t0.006087\n",
      "  \t74\t\t0.003766\t0.006090\n",
      "  \t75\t\t0.003722\t0.006070\n",
      "  \t76\t\t0.003690\t0.006069\n",
      "  \t77\t\t0.003647\t0.006032\n",
      "  \t78\t\t0.003742\t0.005973\n",
      "  \t79\t\t0.003747\t0.005940\n",
      "  \t80\t\t0.003792\t0.005822\n",
      "  \t81\t\t0.003786\t0.005822\n",
      "  \t82\t\t0.003764\t0.005835\n",
      "  \t83\t\t0.003748\t0.005893\n",
      "  \t84\t\t0.003706\t0.005898\n",
      "  \t85\t\t0.003662\t0.005896\n",
      "  \t86\t\t0.003685\t0.005888\n",
      "  \t87\t\t0.003719\t0.005893\n",
      "  \t88\t\t0.003681\t0.005923\n",
      "  \t89\t\t0.003643\t0.005947\n",
      "  \t90\t\t0.003630\t0.005900\n",
      "  \t91\t\t0.003599\t0.005871\n",
      "  \t92\t\t0.003559\t0.005866\n",
      "  \t93\t\t0.003535\t0.005867\n",
      "  \t94\t\t0.003513\t0.005889\n",
      "  \t95\t\t0.003478\t0.005908\n",
      "  \t96\t\t0.003453\t0.005909\n",
      "  \t97\t\t0.003420\t0.005917\n",
      "  \t98\t\t0.003386\t0.005916\n",
      "  \t99\t\t0.003354\t0.005934\n",
      "  \t100\t\t0.003412\t0.006014\n",
      "  \t101\t\t0.003391\t0.005965\n",
      "  \t102\t\t0.003366\t0.005962\n",
      "  \t103\t\t0.003334\t0.005974\n",
      "  \t104\t\t0.003310\t0.005962\n",
      "  \t105\t\t0.003323\t0.005926\n",
      "  \t106\t\t0.003356\t0.005961\n",
      "  \t107\t\t0.003376\t0.005997\n",
      "  \t108\t\t0.003423\t0.006024\n",
      "  \t109\t\t0.003622\t0.005966\n",
      "  \t110\t\t0.003589\t0.005966\n",
      "  \t111\t\t0.003568\t0.005953\n",
      "  \t112\t\t0.003600\t0.005875\n",
      "  \t113\t\t0.003596\t0.005918\n",
      "  \t114\t\t0.003566\t0.005920\n",
      "  \t115\t\t0.003545\t0.005958\n",
      "  \t116\t\t0.003573\t0.006023\n",
      "  \t117\t\t0.003544\t0.006034\n",
      "  \t118\t\t0.003514\t0.006030\n",
      "  \t119\t\t0.003514\t0.006010\n",
      "  \t120\t\t0.003493\t0.006029\n",
      "  \t121\t\t0.003466\t0.006023\n",
      "  \t122\t\t0.003447\t0.006014\n",
      "  \t123\t\t0.003440\t0.005971\n",
      "  \t124\t\t0.003433\t0.005984\n",
      "  \t125\t\t0.003408\t0.005981\n",
      "  \t126\t\t0.003383\t0.005971\n",
      "  \t127\t\t0.003357\t0.005975\n",
      "  \t128\t\t0.003332\t0.005976\n",
      "  \t129\t\t0.003322\t0.005986\n",
      "  \t130\t\t0.003311\t0.005956\n",
      "  \t131\t\t0.003309\t0.005964\n",
      "  \t132\t\t0.003305\t0.005965\n",
      "  \t133\t\t0.003295\t0.005954\n",
      "  \t134\t\t0.003347\t0.005965\n",
      "  \t135\t\t0.003334\t0.005996\n",
      "  \t136\t\t0.003487\t0.005990\n",
      "  \t137\t\t0.003461\t0.005989\n",
      "  \t138\t\t0.003440\t0.006013\n",
      "  \t139\t\t0.003426\t0.005982\n",
      "  \t140\t\t0.003421\t0.005958\n",
      "  \t141\t\t0.003409\t0.005934\n",
      "  \t142\t\t0.003399\t0.005920\n",
      "  \t143\t\t0.003383\t0.005960\n",
      "  \t144\t\t0.003404\t0.005962\n",
      "  \t145\t\t0.003384\t0.005956\n",
      "  \t146\t\t0.003362\t0.005956\n",
      "  \t147\t\t0.003340\t0.005953\n",
      "  \t148\t\t0.003397\t0.005900\n",
      "  \t149\t\t0.003426\t0.005919\n",
      "  \t150\t\t0.003575\t0.005859\n",
      "  \t151\t\t0.003597\t0.005847\n",
      "  \t152\t\t0.003584\t0.005837\n",
      "  \t153\t\t0.003563\t0.005850\n",
      "  \t154\t\t0.003540\t0.005851\n",
      "  \t155\t\t0.003544\t0.005845\n",
      "  \t156\t\t0.003601\t0.005822\n",
      "  \t157\t\t0.003647\t0.005757\n",
      "  \t158\t\t0.003624\t0.005763\n",
      "  \t159\t\t0.003612\t0.005805\n",
      "  \t160\t\t0.003590\t0.005804\n",
      "  \t161\t\t0.003570\t0.005805\n",
      "  \t162\t\t0.003573\t0.005808\n",
      "  \t163\t\t0.003574\t0.005840\n",
      "  \t164\t\t0.003561\t0.005836\n",
      "  \t165\t\t0.003637\t0.005841\n",
      "  \t166\t\t0.003616\t0.005844\n",
      "  \t167\t\t0.003596\t0.005846\n",
      "  \t168\t\t0.003580\t0.005832\n",
      "  \t169\t\t0.003593\t0.005855\n",
      "  \t170\t\t0.003603\t0.005844\n",
      "  \t171\t\t0.003594\t0.005828\n",
      "  \t172\t\t0.003573\t0.005828\n",
      "  \t173\t\t0.003574\t0.005823\n",
      "  \t174\t\t0.003574\t0.005836\n",
      "  \t175\t\t0.003561\t0.005809\n",
      "  \t176\t\t0.003552\t0.005810\n",
      "  \t177\t\t0.003533\t0.005818\n",
      "  \t178\t\t0.003607\t0.005795\n",
      "  \t179\t\t0.003587\t0.005795\n",
      "  \t180\t\t0.003583\t0.005789\n",
      "  \t181\t\t0.003750\t0.005832\n",
      "  \t182\t\t0.003732\t0.005829\n",
      "  \t183\t\t0.003718\t0.005832\n",
      "  \t184\t\t0.003704\t0.005837\n",
      "  \t185\t\t0.003686\t0.005846\n",
      "  \t186\t\t0.003679\t0.005840\n",
      "  \t187\t\t0.003703\t0.005861\n",
      "  \t188\t\t0.003690\t0.005867\n",
      "  \t189\t\t0.003673\t0.005867\n",
      "  \t190\t\t0.003677\t0.005850\n",
      "  \t191\t\t0.003744\t0.005881\n",
      "  \t192\t\t0.003772\t0.005875\n",
      "  \t193\t\t0.003757\t0.005882\n",
      "  \t194\t\t0.003817\t0.005825\n",
      "  \t195\t\t0.003819\t0.005835\n",
      "  \t196\t\t0.003820\t0.005825\n",
      "  \t197\t\t0.003801\t0.005824\n",
      "  \t198\t\t0.003817\t0.005829\n",
      "  \t199\t\t0.003804\t0.005844\n",
      "  \t200\t\t0.003786\t0.005840\n",
      "  \t201\t\t0.003813\t0.005798\n",
      "  \t202\t\t0.003796\t0.005799\n",
      "  \t203\t\t0.003778\t0.005800\n",
      "  \t204\t\t0.003782\t0.005807\n",
      "  \t205\t\t0.003764\t0.005805\n",
      "  \t206\t\t0.003765\t0.005787\n",
      "  \t207\t\t0.003776\t0.005787\n",
      "  \t208\t\t0.003760\t0.005783\n",
      "  \t209\t\t0.003753\t0.005784\n",
      "  \t210\t\t0.003766\t0.005787\n",
      "  \t211\t\t0.003755\t0.005773\n",
      "  \t212\t\t0.003785\t0.005774\n",
      "  \t213\t\t0.003769\t0.005776\n",
      "  \t214\t\t0.003752\t0.005777\n",
      "  \t215\t\t0.003754\t0.005759\n",
      "  \t216\t\t0.003751\t0.005754\n",
      "  \t217\t\t0.003744\t0.005745\n",
      "  \t218\t\t0.003743\t0.005748\n",
      "  \t219\t\t0.003727\t0.005746\n",
      "  \t220\t\t0.003710\t0.005747\n",
      "  \t221\t\t0.003714\t0.005721\n",
      "  \t222\t\t0.003706\t0.005715\n",
      "  \t223\t\t0.003690\t0.005714\n",
      "  \t224\t\t0.003686\t0.005737\n",
      "  \t225\t\t0.003748\t0.005714\n",
      "  \t226\t\t0.003744\t0.005722\n",
      "  \t227\t\t0.003836\t0.005697\n",
      "  \t228\t\t0.003820\t0.005704\n",
      "  \t229\t\t0.003814\t0.005703\n",
      "  \t230\t\t0.003836\t0.005787\n",
      "  \t231\t\t0.003831\t0.005794\n",
      "  \t232\t\t0.003815\t0.005794\n",
      "  \t233\t\t0.003817\t0.005799\n",
      "  \t234\t\t0.003803\t0.005786\n",
      "  \t235\t\t0.003800\t0.005802\n",
      "  \t236\t\t0.003790\t0.005809\n",
      "  \t237\t\t0.003775\t0.005811\n",
      "  \t238\t\t0.003761\t0.005815\n",
      "  \t239\t\t0.003749\t0.005819\n",
      "  \t240\t\t0.003734\t0.005821\n",
      "  \t241\t\t0.003748\t0.005850\n",
      "  \t242\t\t0.003736\t0.005851\n",
      "  \t243\t\t0.003722\t0.005842\n",
      "  \t244\t\t0.003707\t0.005843\n",
      "  \t245\t\t0.003722\t0.005843\n",
      "  \t246\t\t0.003707\t0.005843\n"
     ]
    },
    {
     "data": {
      "image/png": "[encoded data removed]",
      "text/plain": [
       "<Figure size 432x288 with 1 Axes>"
      ]
     },
     "metadata": {
      "needs_background": "light"
     },
     "output_type": "display_data"
    }
   ],
   "source": [
    "m = y_train.size\n",
    "plt.plot(np.arange(1, m+1), error_train, np.arange(1, m+1), error_test, lw=2)\n",
    "plt.title('Courbe d''apprentissage pour la regression lineaire')\n",
    "plt.legend(['Train', 'Test'])\n",
    "plt.xlabel('Nombre d''exemples d''apprentissage')\n",
    "plt.ylabel('Erreur')\n",
    "plt.axis([0, 250, 0, 0.09])\n",
    "\n",
    "print('# Training Examples\\tTrain Error\\tCross Validation Error')\n",
    "for i in range(m):\n",
    "    print('  \\t%d\\t\\t%f\\t%f' % (i+1, error_train[i], error_test[i]))"
   ]
  },
  {
   "cell_type": "markdown",
   "metadata": {
    "colab_type": "text",
    "id": "0LA766bScq4J"
   },
   "source": [
    "**Question:**\n",
    "\n",
    "De quoi souffre ce modele:\n",
    "\n",
    "\n",
    "*   Probléme de variance: overfitting\n",
    "\n"
   ]
  },
  {
   "cell_type": "code",
   "execution_count": 22,
   "metadata": {},
   "outputs": [
    {
     "data": {
      "text/plain": [
       "0.0038362686930835067"
      ]
     },
     "execution_count": 22,
     "metadata": {},
     "output_type": "execute_result"
    }
   ],
   "source": [
    "error_train.max()"
   ]
  },
  {
   "cell_type": "markdown",
   "metadata": {
    "colab_type": "text",
    "id": "2Lx5nnRZUxB7"
   },
   "source": [
    "**Amelioration du modéle: on cherche les variables corrélées**\n",
    "\n",
    "Visualisation des données par pairs\n",
    "\n",
    "Utilisez la bibliothéque seaborn pour visualiser les données par pairs. Cette visualisation permet de voir les corrélations entre les différentes variables. Vous utiliserez la fonction corr() de pandas pour calculer les coefficient de corrélation."
   ]
  },
  {
   "cell_type": "code",
   "execution_count": null,
   "metadata": {
    "colab": {
     "base_uri": "https://localhost:8080/",
     "height": 864
    },
    "colab_type": "code",
    "id": "rXNZbfmkVLij",
    "outputId": "a46fe335-26c3-4128-f7fb-450b49fb0819"
   },
   "outputs": [
    {
     "data": {
      "text/plain": [
       "<seaborn.axisgrid.PairGrid at 0x7f8d5b0f23d0>"
      ]
     },
     "execution_count": 23,
     "metadata": {},
     "output_type": "execute_result"
    }
   ],
   "source": [
    "# TODO\n",
    "sn.pairplot(climate_change)"
   ]
  },
  {
   "cell_type": "code",
   "execution_count": null,
   "metadata": {
    "colab": {
     "base_uri": "https://localhost:8080/",
     "height": 301
    },
    "colab_type": "code",
    "id": "mCTVfOSUMCr-",
    "outputId": "8c0b172f-181a-40bb-ac86-52b8cf76c64d"
   },
   "outputs": [],
   "source": [
    "corrMatrix = climate_change.corr()\n",
    "sn.heatmap(corrMatrix, annot=True)\n",
    "plt.show()"
   ]
  },
  {
   "cell_type": "markdown",
   "metadata": {
    "colab_type": "text",
    "id": "-nwH_HpudwmO"
   },
   "source": [
    "**Quelles variables pensez-vous enlever pour rendre le modéle plus performant en tenant compte du heatmap ci-dessus ? Enlevez-les, faites tourner le modéle et dessiner le learning curve**"
   ]
  },
  {
   "cell_type": "code",
   "execution_count": null,
   "metadata": {
    "colab": {},
    "colab_type": "code",
    "id": "GIwZn7iBd-y7"
   },
   "outputs": [],
   "source": [
    "# Simplifier le modéle en enlevant 'CH4', 'CO2', 'CFC-11' et 'CFC-12'\n",
    "climate_change = climate_change.drop(['CH4', 'CO2', 'CFC-11', 'CFC-12'], axis=1)\n"
   ]
  },
  {
   "cell_type": "markdown",
   "metadata": {
    "colab_type": "text",
    "id": "aWl-611hlfdH"
   },
   "source": [
    "**Dessiner à nouveau la matrice de corrélation**"
   ]
  },
  {
   "cell_type": "code",
   "execution_count": null,
   "metadata": {
    "colab": {
     "base_uri": "https://localhost:8080/",
     "height": 269
    },
    "colab_type": "code",
    "id": "uxc3HEFJlFGD",
    "outputId": "b297853c-dd46-453e-998e-ed90b7d48a79"
   },
   "outputs": [],
   "source": [
    "corrMatrix = climate_change.corr()\n",
    "\n",
    "sn.heatmap(corrMatrix, annot=True)\n",
    "plt.show()"
   ]
  },
  {
   "cell_type": "markdown",
   "metadata": {
    "colab_type": "text",
    "id": "PUnnetCc7Tgr"
   },
   "source": [
    "**Rexecuter à nouveau le modéle et recalcuer theta ainsi que le learning curve**"
   ]
  },
  {
   "cell_type": "code",
   "execution_count": null,
   "metadata": {
    "colab": {},
    "colab_type": "code",
    "id": "oygIJThhfRWc"
   },
   "outputs": [],
   "source": [
    "X_train,X_test,y_train,y_test = train_test_split(climate_change, y, test_size=0.2, random_state=20)\n",
    "\n",
    "X_train_aug = np.concatenate([np.ones((X_train.shape[0], 1)), X_train], axis=1)\n",
    "X_test_aug = np.concatenate([np.ones((X_test.shape[0], 1)), X_test], axis=1)\n",
    "theta = trainLinearReg(linearRegCostFunction, X_train_aug, y_train, lambda_=0)\n",
    "\n",
    "error_train,error_test = learningCurve(X_train_aug, y_train, X_test_aug, y_test, lambda_=0)"
   ]
  },
  {
   "cell_type": "code",
   "execution_count": null,
   "metadata": {
    "colab": {
     "base_uri": "https://localhost:8080/",
     "height": 1000
    },
    "colab_type": "code",
    "id": "x4jntQoff1Zh",
    "outputId": "6e6aac9e-3bea-4a4f-e52a-9938828695f2"
   },
   "outputs": [],
   "source": [
    "m = y_train.size\n",
    "fig= plt.figure(figsize=(15,10))\n",
    "plt.plot(np.arange(1, m+1), error_train, np.arange(1, m+1), error_test, lw=2)\n",
    "plt.title('Courbe d''apprentissage pour la regression lineaire')\n",
    "plt.legend(['Train', 'Test'])\n",
    "plt.xlabel('Nombre d''exemples d''apprentissage')\n",
    "plt.ylabel('Erreur')\n",
    "plt.axis([0, 250, 0, 0.2])\n",
    "\n",
    "print('# Training Examples\\tTrain Error\\tCross Validation Error')\n",
    "for i in range(m):\n",
    "    print('  \\t%d\\t\\t%f\\t%f' % (i+1, error_train[i], error_test[i]))"
   ]
  },
  {
   "cell_type": "markdown",
   "metadata": {
    "colab_type": "text",
    "id": "XiPYkS5-iqgc"
   },
   "source": [
    "**Est-ce que le modéle s'est amélioré? Justifier votre reponse**\n",
    "**Est-ce que si nous ajoutons des  données, le modéle va s'améliorer? Justifier votre réponse**\n",
    "\n",
    "**Oui, il y a eu une amélioration.**\n",
    "L'erreur maximale a baissée"
   ]
  },
  {
   "cell_type": "code",
   "execution_count": null,
   "metadata": {},
   "outputs": [],
   "source": [
    "error_train.max()"
   ]
  },
  {
   "cell_type": "markdown",
   "metadata": {
    "colab_type": "text",
    "id": "80i13CimmH0a"
   },
   "source": [
    "**Formule analytique**\n",
    "\n",
    "Utiliser la formule analytique pour calculer theta et comparer le au theta que vous avez trouvé précédemment"
   ]
  },
  {
   "cell_type": "code",
   "execution_count": null,
   "metadata": {
    "colab": {},
    "colab_type": "code",
    "id": "MceKdkI20FKA"
   },
   "outputs": [],
   "source": [
    "Z = climate_change.to_numpy()\n",
    "Z = np.concatenate([np.ones((Z.shape[0], 1)), Z], axis=1)"
   ]
  },
  {
   "cell_type": "code",
   "execution_count": null,
   "metadata": {
    "colab": {},
    "colab_type": "code",
    "id": "nJrMVAPN0M_H"
   },
   "outputs": [],
   "source": [
    "theta2 = ((X_train_aug.T.dot(X_train_aug))**(-1)).dot(X_train_aug.T).dot(y_train)"
   ]
  },
  {
   "cell_type": "code",
   "execution_count": null,
   "metadata": {
    "colab": {
     "base_uri": "https://localhost:8080/",
     "height": 119
    },
    "colab_type": "code",
    "id": "D8IURllG05Gf",
    "outputId": "9a895211-6a75-47ee-e563-884c210446ad"
   },
   "outputs": [],
   "source": [
    "theta2, theta"
   ]
  },
  {
   "cell_type": "markdown",
   "metadata": {
    "colab_type": "text",
    "id": "5vmZytKt4wxS"
   },
   "source": [
    "**Exercice**\n",
    "\n",
    "Creer un modéle de regression linéaire en utilisant scikit-learn et faites de la prediction avec ce modele"
   ]
  },
  {
   "cell_type": "code",
   "execution_count": null,
   "metadata": {},
   "outputs": [],
   "source": [
    "model = LinearRegression()"
   ]
  },
  {
   "cell_type": "code",
   "execution_count": null,
   "metadata": {},
   "outputs": [],
   "source": [
    "model.fit(X_train, y_train)"
   ]
  },
  {
   "cell_type": "code",
   "execution_count": null,
   "metadata": {},
   "outputs": [],
   "source": [
    "model.score(X_train, y_train)"
   ]
  },
  {
   "cell_type": "code",
   "execution_count": null,
   "metadata": {},
   "outputs": [],
   "source": [
    "model.predict(np.array(X_test.iloc[95]).reshape(1,4))"
   ]
  },
  {
   "cell_type": "code",
   "execution_count": null,
   "metadata": {},
   "outputs": [],
   "source": [
    "model.predict(X_test)"
   ]
  }
 ],
 "metadata": {
  "colab": {
   "collapsed_sections": [],
   "name": "Copie de LinearRegression.ipynb",
   "provenance": []
  },
  "kernelspec": {
   "display_name": "Python 3",
   "language": "python",
   "name": "python3"
  },
  "language_info": {
   "codemirror_mode": {
    "name": "ipython",
    "version": 3
   },
   "file_extension": ".py",
   "mimetype": "text/x-python",
   "name": "python",
   "nbconvert_exporter": "python",
   "pygments_lexer": "ipython3",
   "version": "3.7.6"
  }
 },
 "nbformat": 4,
 "nbformat_minor": 1
}
